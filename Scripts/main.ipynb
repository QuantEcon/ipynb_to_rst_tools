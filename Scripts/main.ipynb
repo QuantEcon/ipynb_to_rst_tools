{
 "nbformat": 4,
 "nbformat_minor": 2,
 "metadata": {
  "language_info": {
   "name": "python",
   "codemirror_mode": {
    "name": "ipython",
    "version": 3
   },
   "version": "3.7.3"
  },
  "orig_nbformat": 2,
  "file_extension": ".py",
  "mimetype": "text/x-python",
  "name": "python",
  "npconvert_exporter": "python",
  "pygments_lexer": "ipython3",
  "version": 3
 },
 "cells": [
  {
   "cell_type": "code",
   "execution_count": 49,
   "metadata": {},
   "outputs": [],
   "source": [
    "import os\n",
    "import glob"
   ]
  },
  {
   "cell_type": "code",
   "execution_count": 50,
   "metadata": {},
   "outputs": [],
   "source": [
    "path = 'test/*rst'\n",
    "files = glob.glob(path)"
   ]
  },
  {
   "cell_type": "code",
   "execution_count": 52,
   "metadata": {},
   "outputs": [],
   "source": [
    "def make_texList(filename):\n",
    "    f = open(filename, \"r\", encoding=\"utf8\")\n",
    "    texList = []\n",
    "    for line in f:\n",
    "        texList.append(line)\n",
    "    return texList"
   ]
  },
  {
   "cell_type": "code",
   "execution_count": 53,
   "metadata": {},
   "outputs": [],
   "source": [
    "def func_replace(a, b, filename):\n",
    "    with open(filename,'r+', encoding=\"utf8\") as f:\n",
    "            #convert to string:\n",
    "            data = f.read()\n",
    "            f.seek(0)\n",
    "            f.write(data.replace(a, b))\n",
    "            f.truncate()"
   ]
  },
  {
   "cell_type": "code",
   "execution_count": 57,
   "metadata": {},
   "outputs": [],
   "source": [
    "def math_environment_process(filename):\n",
    "    mathen=0\n",
    "    code=0\n",
    "    str3 = \" code-block::\"\n",
    "    str1 = \"$\"\n",
    "    texlist = make_texList(filename)\n",
    "    f = open(filename, \"w\", encoding=\"utf8\")\n",
    "    for i in range(0, len(texlist)):\n",
    "        srr = \"\"\n",
    "        if str3 in texlist[i]:\n",
    "            code==1\n",
    "        if code==0:\n",
    "            for x in range(0, len(texlist[i])-1):\n",
    "                if x==0:\n",
    "                    if str1 in texlist[i][x]:\n",
    "                        if mathen==-1:\n",
    "                            mathen=1\n",
    "                        if mathen==2:\n",
    "                            mathen=0\n",
    "\n",
    "                else:\n",
    "                    if str1 in texlist[i][x]:\n",
    "                        if \"\\\\\" not in texlist[i][x-1]:\n",
    "                            if mathen==-1:\n",
    "                                mathen=1\n",
    "                            if mathen==2:\n",
    "                                mathen=0\n",
    "\n",
    "                if mathen==2:\n",
    "                    srr+=texlist[i][x]\n",
    "                if mathen==1:\n",
    "                    srr+=\":math:`\"\n",
    "                    mathen=2\n",
    "                if mathen==-1:\n",
    "                    srr+=texlist[i][x]\n",
    "                if mathen==0:\n",
    "                    srr+=\"`\"\n",
    "                    mathen = -1\n",
    "        else:\n",
    "            srr+=texlist[i]\n",
    "\n",
    "        if code==1:\n",
    "            if texlist[i+1][0]==\" \":\n",
    "                code=1\n",
    "            else:\n",
    "                code=0\n",
    "        \n",
    "        f.write(srr+\"\\n\")\n",
    "\n",
    "    f.close()"
   ]
  },
  {
   "cell_type": "code",
   "execution_count": 58,
   "metadata": {},
   "outputs": [],
   "source": [
    "def make_changes(filename):\n",
    "    func_replace(' code::', ' code-block::', filename)\n",
    "    func_replace('ipython3', 'python3', filename)\n",
    "    "
   ]
  },
  {
   "cell_type": "code",
   "execution_count": 60,
   "metadata": {},
   "outputs": [],
   "source": [
    "for name in files:\n",
    "    make_changes(name)\n",
    "    math_environment_process(name)"
   ]
  },
  {
   "cell_type": "code",
   "execution_count": null,
   "metadata": {},
   "outputs": [],
   "source": []
  }
 ]
}